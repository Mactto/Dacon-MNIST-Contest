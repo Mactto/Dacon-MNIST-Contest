{
 "cells": [
  {
   "cell_type": "markdown",
   "metadata": {},
   "source": [
    "# 라이브러리 호출"
   ]
  },
  {
   "cell_type": "code",
   "execution_count": 49,
   "metadata": {},
   "outputs": [],
   "source": [
    "import pandas as pd\n",
    "import numpy as np\n",
    "import matplotlib.pyplot as plt\n",
    "\n",
    "from tensorflow.keras import models, layers\n",
    "from tensorflow.keras.utils import to_categorical\n",
    "from tensorflow.keras.callbacks import LearningRateScheduler\n",
    "from sklearn.model_selection import KFold\n",
    "from tensorflow.keras.callbacks import EarlyStopping"
   ]
  },
  {
   "cell_type": "markdown",
   "metadata": {},
   "source": [
    "---\n",
    "# 데이터 불러오기"
   ]
  },
  {
   "cell_type": "code",
   "execution_count": 50,
   "metadata": {},
   "outputs": [],
   "source": [
    "train = pd.read_csv('./dataset/train.csv')\n",
    "test = pd.read_csv('./dataset/test.csv')\n",
    "submission = pd.read_csv('./dataset/submission.csv')"
   ]
  },
  {
   "cell_type": "code",
   "execution_count": 51,
   "metadata": {},
   "outputs": [
    {
     "data": {
      "text/html": [
       "<div>\n",
       "<style scoped>\n",
       "    .dataframe tbody tr th:only-of-type {\n",
       "        vertical-align: middle;\n",
       "    }\n",
       "\n",
       "    .dataframe tbody tr th {\n",
       "        vertical-align: top;\n",
       "    }\n",
       "\n",
       "    .dataframe thead th {\n",
       "        text-align: right;\n",
       "    }\n",
       "</style>\n",
       "<table border=\"1\" class=\"dataframe\">\n",
       "  <thead>\n",
       "    <tr style=\"text-align: right;\">\n",
       "      <th></th>\n",
       "      <th>id</th>\n",
       "      <th>digit</th>\n",
       "      <th>letter</th>\n",
       "      <th>0</th>\n",
       "      <th>1</th>\n",
       "      <th>2</th>\n",
       "      <th>3</th>\n",
       "      <th>4</th>\n",
       "      <th>5</th>\n",
       "      <th>6</th>\n",
       "      <th>...</th>\n",
       "      <th>774</th>\n",
       "      <th>775</th>\n",
       "      <th>776</th>\n",
       "      <th>777</th>\n",
       "      <th>778</th>\n",
       "      <th>779</th>\n",
       "      <th>780</th>\n",
       "      <th>781</th>\n",
       "      <th>782</th>\n",
       "      <th>783</th>\n",
       "    </tr>\n",
       "  </thead>\n",
       "  <tbody>\n",
       "    <tr>\n",
       "      <th>0</th>\n",
       "      <td>1</td>\n",
       "      <td>5</td>\n",
       "      <td>L</td>\n",
       "      <td>1</td>\n",
       "      <td>1</td>\n",
       "      <td>1</td>\n",
       "      <td>4</td>\n",
       "      <td>3</td>\n",
       "      <td>0</td>\n",
       "      <td>0</td>\n",
       "      <td>...</td>\n",
       "      <td>2</td>\n",
       "      <td>1</td>\n",
       "      <td>0</td>\n",
       "      <td>1</td>\n",
       "      <td>2</td>\n",
       "      <td>4</td>\n",
       "      <td>4</td>\n",
       "      <td>4</td>\n",
       "      <td>3</td>\n",
       "      <td>4</td>\n",
       "    </tr>\n",
       "    <tr>\n",
       "      <th>1</th>\n",
       "      <td>2</td>\n",
       "      <td>0</td>\n",
       "      <td>B</td>\n",
       "      <td>0</td>\n",
       "      <td>4</td>\n",
       "      <td>0</td>\n",
       "      <td>0</td>\n",
       "      <td>4</td>\n",
       "      <td>1</td>\n",
       "      <td>1</td>\n",
       "      <td>...</td>\n",
       "      <td>0</td>\n",
       "      <td>3</td>\n",
       "      <td>0</td>\n",
       "      <td>1</td>\n",
       "      <td>4</td>\n",
       "      <td>1</td>\n",
       "      <td>4</td>\n",
       "      <td>2</td>\n",
       "      <td>1</td>\n",
       "      <td>2</td>\n",
       "    </tr>\n",
       "    <tr>\n",
       "      <th>2</th>\n",
       "      <td>3</td>\n",
       "      <td>4</td>\n",
       "      <td>L</td>\n",
       "      <td>1</td>\n",
       "      <td>1</td>\n",
       "      <td>2</td>\n",
       "      <td>2</td>\n",
       "      <td>1</td>\n",
       "      <td>1</td>\n",
       "      <td>1</td>\n",
       "      <td>...</td>\n",
       "      <td>3</td>\n",
       "      <td>3</td>\n",
       "      <td>3</td>\n",
       "      <td>0</td>\n",
       "      <td>2</td>\n",
       "      <td>0</td>\n",
       "      <td>3</td>\n",
       "      <td>0</td>\n",
       "      <td>2</td>\n",
       "      <td>2</td>\n",
       "    </tr>\n",
       "    <tr>\n",
       "      <th>3</th>\n",
       "      <td>4</td>\n",
       "      <td>9</td>\n",
       "      <td>D</td>\n",
       "      <td>1</td>\n",
       "      <td>2</td>\n",
       "      <td>0</td>\n",
       "      <td>2</td>\n",
       "      <td>0</td>\n",
       "      <td>4</td>\n",
       "      <td>0</td>\n",
       "      <td>...</td>\n",
       "      <td>3</td>\n",
       "      <td>3</td>\n",
       "      <td>2</td>\n",
       "      <td>0</td>\n",
       "      <td>1</td>\n",
       "      <td>4</td>\n",
       "      <td>0</td>\n",
       "      <td>0</td>\n",
       "      <td>1</td>\n",
       "      <td>1</td>\n",
       "    </tr>\n",
       "    <tr>\n",
       "      <th>4</th>\n",
       "      <td>5</td>\n",
       "      <td>6</td>\n",
       "      <td>A</td>\n",
       "      <td>3</td>\n",
       "      <td>0</td>\n",
       "      <td>2</td>\n",
       "      <td>4</td>\n",
       "      <td>0</td>\n",
       "      <td>3</td>\n",
       "      <td>0</td>\n",
       "      <td>...</td>\n",
       "      <td>4</td>\n",
       "      <td>4</td>\n",
       "      <td>3</td>\n",
       "      <td>2</td>\n",
       "      <td>1</td>\n",
       "      <td>3</td>\n",
       "      <td>4</td>\n",
       "      <td>3</td>\n",
       "      <td>1</td>\n",
       "      <td>2</td>\n",
       "    </tr>\n",
       "    <tr>\n",
       "      <th>5</th>\n",
       "      <td>6</td>\n",
       "      <td>8</td>\n",
       "      <td>C</td>\n",
       "      <td>4</td>\n",
       "      <td>3</td>\n",
       "      <td>0</td>\n",
       "      <td>3</td>\n",
       "      <td>3</td>\n",
       "      <td>4</td>\n",
       "      <td>3</td>\n",
       "      <td>...</td>\n",
       "      <td>4</td>\n",
       "      <td>3</td>\n",
       "      <td>0</td>\n",
       "      <td>4</td>\n",
       "      <td>4</td>\n",
       "      <td>4</td>\n",
       "      <td>2</td>\n",
       "      <td>2</td>\n",
       "      <td>3</td>\n",
       "      <td>4</td>\n",
       "    </tr>\n",
       "    <tr>\n",
       "      <th>6</th>\n",
       "      <td>7</td>\n",
       "      <td>1</td>\n",
       "      <td>Q</td>\n",
       "      <td>0</td>\n",
       "      <td>0</td>\n",
       "      <td>4</td>\n",
       "      <td>2</td>\n",
       "      <td>4</td>\n",
       "      <td>0</td>\n",
       "      <td>4</td>\n",
       "      <td>...</td>\n",
       "      <td>4</td>\n",
       "      <td>3</td>\n",
       "      <td>2</td>\n",
       "      <td>0</td>\n",
       "      <td>4</td>\n",
       "      <td>4</td>\n",
       "      <td>4</td>\n",
       "      <td>3</td>\n",
       "      <td>1</td>\n",
       "      <td>3</td>\n",
       "    </tr>\n",
       "    <tr>\n",
       "      <th>7</th>\n",
       "      <td>8</td>\n",
       "      <td>3</td>\n",
       "      <td>M</td>\n",
       "      <td>1</td>\n",
       "      <td>0</td>\n",
       "      <td>3</td>\n",
       "      <td>4</td>\n",
       "      <td>4</td>\n",
       "      <td>0</td>\n",
       "      <td>2</td>\n",
       "      <td>...</td>\n",
       "      <td>2</td>\n",
       "      <td>0</td>\n",
       "      <td>4</td>\n",
       "      <td>4</td>\n",
       "      <td>4</td>\n",
       "      <td>0</td>\n",
       "      <td>2</td>\n",
       "      <td>2</td>\n",
       "      <td>3</td>\n",
       "      <td>1</td>\n",
       "    </tr>\n",
       "    <tr>\n",
       "      <th>8</th>\n",
       "      <td>9</td>\n",
       "      <td>6</td>\n",
       "      <td>F</td>\n",
       "      <td>0</td>\n",
       "      <td>1</td>\n",
       "      <td>0</td>\n",
       "      <td>4</td>\n",
       "      <td>0</td>\n",
       "      <td>1</td>\n",
       "      <td>2</td>\n",
       "      <td>...</td>\n",
       "      <td>3</td>\n",
       "      <td>2</td>\n",
       "      <td>4</td>\n",
       "      <td>4</td>\n",
       "      <td>4</td>\n",
       "      <td>1</td>\n",
       "      <td>0</td>\n",
       "      <td>1</td>\n",
       "      <td>3</td>\n",
       "      <td>3</td>\n",
       "    </tr>\n",
       "    <tr>\n",
       "      <th>9</th>\n",
       "      <td>10</td>\n",
       "      <td>8</td>\n",
       "      <td>J</td>\n",
       "      <td>4</td>\n",
       "      <td>3</td>\n",
       "      <td>4</td>\n",
       "      <td>0</td>\n",
       "      <td>0</td>\n",
       "      <td>0</td>\n",
       "      <td>4</td>\n",
       "      <td>...</td>\n",
       "      <td>2</td>\n",
       "      <td>0</td>\n",
       "      <td>0</td>\n",
       "      <td>1</td>\n",
       "      <td>3</td>\n",
       "      <td>0</td>\n",
       "      <td>3</td>\n",
       "      <td>3</td>\n",
       "      <td>1</td>\n",
       "      <td>2</td>\n",
       "    </tr>\n",
       "  </tbody>\n",
       "</table>\n",
       "<p>10 rows × 787 columns</p>\n",
       "</div>"
      ],
      "text/plain": [
       "   id  digit letter  0  1  2  3  4  5  6  ...  774  775  776  777  778  779  \\\n",
       "0   1      5      L  1  1  1  4  3  0  0  ...    2    1    0    1    2    4   \n",
       "1   2      0      B  0  4  0  0  4  1  1  ...    0    3    0    1    4    1   \n",
       "2   3      4      L  1  1  2  2  1  1  1  ...    3    3    3    0    2    0   \n",
       "3   4      9      D  1  2  0  2  0  4  0  ...    3    3    2    0    1    4   \n",
       "4   5      6      A  3  0  2  4  0  3  0  ...    4    4    3    2    1    3   \n",
       "5   6      8      C  4  3  0  3  3  4  3  ...    4    3    0    4    4    4   \n",
       "6   7      1      Q  0  0  4  2  4  0  4  ...    4    3    2    0    4    4   \n",
       "7   8      3      M  1  0  3  4  4  0  2  ...    2    0    4    4    4    0   \n",
       "8   9      6      F  0  1  0  4  0  1  2  ...    3    2    4    4    4    1   \n",
       "9  10      8      J  4  3  4  0  0  0  4  ...    2    0    0    1    3    0   \n",
       "\n",
       "   780  781  782  783  \n",
       "0    4    4    3    4  \n",
       "1    4    2    1    2  \n",
       "2    3    0    2    2  \n",
       "3    0    0    1    1  \n",
       "4    4    3    1    2  \n",
       "5    2    2    3    4  \n",
       "6    4    3    1    3  \n",
       "7    2    2    3    1  \n",
       "8    0    1    3    3  \n",
       "9    3    3    1    2  \n",
       "\n",
       "[10 rows x 787 columns]"
      ]
     },
     "execution_count": 51,
     "metadata": {},
     "output_type": "execute_result"
    }
   ],
   "source": [
    "train.head(10)"
   ]
  },
  {
   "cell_type": "code",
   "execution_count": 52,
   "metadata": {},
   "outputs": [
    {
     "data": {
      "text/plain": [
       "(2048, 787)"
      ]
     },
     "execution_count": 52,
     "metadata": {},
     "output_type": "execute_result"
    }
   ],
   "source": [
    "train.shape"
   ]
  },
  {
   "cell_type": "code",
   "execution_count": 53,
   "metadata": {},
   "outputs": [
    {
     "data": {
      "text/plain": [
       "(20480, 786)"
      ]
     },
     "execution_count": 53,
     "metadata": {},
     "output_type": "execute_result"
    }
   ],
   "source": [
    "test.shape"
   ]
  },
  {
   "cell_type": "markdown",
   "metadata": {},
   "source": [
    "---\n",
    "# 전처리"
   ]
  },
  {
   "cell_type": "code",
   "execution_count": 54,
   "metadata": {},
   "outputs": [],
   "source": [
    "x_train = train.iloc[:, 3:] / 255.\n",
    "y_train = train['digit']"
   ]
  },
  {
   "cell_type": "markdown",
   "metadata": {},
   "source": [
    "---\n",
    "# 모델링"
   ]
  },
  {
   "cell_type": "code",
   "execution_count": 57,
   "metadata": {
    "scrolled": true
   },
   "outputs": [
    {
     "name": "stdout",
     "output_type": "stream",
     "text": [
      "Model: \"sequential_4\"\n",
      "_________________________________________________________________\n",
      "Layer (type)                 Output Shape              Param #   \n",
      "=================================================================\n",
      "conv2d_12 (Conv2D)           (None, 26, 26, 32)        320       \n",
      "_________________________________________________________________\n",
      "max_pooling2d_8 (MaxPooling2 (None, 13, 13, 32)        0         \n",
      "_________________________________________________________________\n",
      "dropout_12 (Dropout)         (None, 13, 13, 32)        0         \n",
      "_________________________________________________________________\n",
      "conv2d_13 (Conv2D)           (None, 11, 11, 64)        18496     \n",
      "_________________________________________________________________\n",
      "dropout_13 (Dropout)         (None, 11, 11, 64)        0         \n",
      "_________________________________________________________________\n",
      "max_pooling2d_9 (MaxPooling2 (None, 5, 5, 64)          0         \n",
      "_________________________________________________________________\n",
      "conv2d_14 (Conv2D)           (None, 3, 3, 64)          36928     \n",
      "_________________________________________________________________\n",
      "dropout_14 (Dropout)         (None, 3, 3, 64)          0         \n",
      "_________________________________________________________________\n",
      "flatten_4 (Flatten)          (None, 576)               0         \n",
      "_________________________________________________________________\n",
      "dense_7 (Dense)              (None, 400)               230800    \n",
      "_________________________________________________________________\n",
      "dropout_15 (Dropout)         (None, 400)               0         \n",
      "_________________________________________________________________\n",
      "dense_8 (Dense)              (None, 10)                4010      \n",
      "=================================================================\n",
      "Total params: 290,554\n",
      "Trainable params: 290,554\n",
      "Non-trainable params: 0\n",
      "_________________________________________________________________\n"
     ]
    }
   ],
   "source": [
    "model = models.Sequential()\n",
    "    \n",
    "model.add(layers.Conv2D(32, (3, 3), activation='relu', input_shape=(28, 28, 1)))\n",
    "model.add(layers.MaxPooling2D((2, 2)))\n",
    "model.add(layers.Dropout(0.20))\n",
    "model.add(layers.Conv2D(64, (3, 3), activation='relu'))\n",
    "model.add(layers.Dropout(0.20))\n",
    "model.add(layers.MaxPooling2D((2, 2)))\n",
    "model.add(layers.Conv2D(64, (3, 3), activation='relu'))\n",
    "model.add(layers.Dropout(0.20))\n",
    "\n",
    "model.add(layers.Flatten())\n",
    "model.add(layers.Dense(400, activation='relu'))\n",
    "model.add(layers.Dropout(0.5))\n",
    "model.add(layers.Dense(10, activation='softmax'))\n",
    "\n",
    "model.summary()"
   ]
  },
  {
   "cell_type": "code",
   "execution_count": 58,
   "metadata": {},
   "outputs": [],
   "source": [
    "model.compile(optimizer=\"adam\", loss=\"categorical_crossentropy\", metrics=[\"accuracy\"])"
   ]
  },
  {
   "cell_type": "markdown",
   "metadata": {},
   "source": [
    "---\n",
    "# 모델 학습"
   ]
  },
  {
   "cell_type": "code",
   "execution_count": 59,
   "metadata": {},
   "outputs": [],
   "source": [
    "from sklearn.model_selection import train_test_split\n",
    "annealer = LearningRateScheduler(lambda x: 1e-3 * 0.95 ** x, verbose=1)\n",
    "early_stopping = EarlyStopping(monitor='val_loss', patience=10, verbose=1)"
   ]
  },
  {
   "cell_type": "code",
   "execution_count": 60,
   "metadata": {},
   "outputs": [
    {
     "name": "stdout",
     "output_type": "stream",
     "text": [
      "(1843, 28, 28, 1) (205, 28, 28, 1)\n"
     ]
    }
   ],
   "source": [
    "x_train = x_train.values.reshape(-1, 28, 28, 1)\n",
    "y_train = to_categorical(y_train.values)\n",
    "\n",
    "x_train2, x_val, y_train2, y_val = train_test_split(x_train, y_train, test_size=0.1, random_state = 42)\n",
    "\n",
    "print(x_train2.shape, x_val.shape)"
   ]
  },
  {
   "cell_type": "code",
   "execution_count": 61,
   "metadata": {
    "scrolled": false
   },
   "outputs": [
    {
     "name": "stdout",
     "output_type": "stream",
     "text": [
      "Train on 1843 samples, validate on 205 samples\n",
      "\n",
      "Epoch 00001: LearningRateScheduler reducing learning rate to 0.001.\n",
      "Epoch 1/45\n",
      "1843/1843 - 1s - loss: 2.2493 - accuracy: 0.1666 - val_loss: 2.0565 - val_accuracy: 0.2829\n",
      "\n",
      "Epoch 00002: LearningRateScheduler reducing learning rate to 0.00095.\n",
      "Epoch 2/45\n",
      "1843/1843 - 1s - loss: 1.9810 - accuracy: 0.2811 - val_loss: 1.7623 - val_accuracy: 0.3805\n",
      "\n",
      "Epoch 00003: LearningRateScheduler reducing learning rate to 0.0009025.\n",
      "Epoch 3/45\n",
      "1843/1843 - 1s - loss: 1.6584 - accuracy: 0.4254 - val_loss: 1.3793 - val_accuracy: 0.5220\n",
      "\n",
      "Epoch 00004: LearningRateScheduler reducing learning rate to 0.000857375.\n",
      "Epoch 4/45\n",
      "1843/1843 - 1s - loss: 1.3894 - accuracy: 0.5220 - val_loss: 1.2807 - val_accuracy: 0.5951\n",
      "\n",
      "Epoch 00005: LearningRateScheduler reducing learning rate to 0.0008145062499999999.\n",
      "Epoch 5/45\n",
      "1843/1843 - 1s - loss: 1.2255 - accuracy: 0.5849 - val_loss: 1.0842 - val_accuracy: 0.6341\n",
      "\n",
      "Epoch 00006: LearningRateScheduler reducing learning rate to 0.0007737809374999998.\n",
      "Epoch 6/45\n",
      "1843/1843 - 1s - loss: 1.0938 - accuracy: 0.6413 - val_loss: 1.0093 - val_accuracy: 0.6780\n",
      "\n",
      "Epoch 00007: LearningRateScheduler reducing learning rate to 0.0007350918906249999.\n",
      "Epoch 7/45\n",
      "1843/1843 - 1s - loss: 1.0297 - accuracy: 0.6473 - val_loss: 0.9514 - val_accuracy: 0.6878\n",
      "\n",
      "Epoch 00008: LearningRateScheduler reducing learning rate to 0.0006983372960937497.\n",
      "Epoch 8/45\n",
      "1843/1843 - 1s - loss: 0.9553 - accuracy: 0.6804 - val_loss: 0.8872 - val_accuracy: 0.7366\n",
      "\n",
      "Epoch 00009: LearningRateScheduler reducing learning rate to 0.0006634204312890623.\n",
      "Epoch 9/45\n",
      "1843/1843 - 1s - loss: 0.8976 - accuracy: 0.7097 - val_loss: 0.8348 - val_accuracy: 0.7659\n",
      "\n",
      "Epoch 00010: LearningRateScheduler reducing learning rate to 0.0006302494097246091.\n",
      "Epoch 10/45\n",
      "1843/1843 - 1s - loss: 0.8487 - accuracy: 0.7135 - val_loss: 0.8174 - val_accuracy: 0.7756\n",
      "\n",
      "Epoch 00011: LearningRateScheduler reducing learning rate to 0.0005987369392383787.\n",
      "Epoch 11/45\n",
      "1843/1843 - 1s - loss: 0.8160 - accuracy: 0.7271 - val_loss: 0.8236 - val_accuracy: 0.7512\n",
      "\n",
      "Epoch 00012: LearningRateScheduler reducing learning rate to 0.0005688000922764596.\n",
      "Epoch 12/45\n",
      "1843/1843 - 1s - loss: 0.7874 - accuracy: 0.7303 - val_loss: 0.7996 - val_accuracy: 0.7610\n",
      "\n",
      "Epoch 00013: LearningRateScheduler reducing learning rate to 0.0005403600876626366.\n",
      "Epoch 13/45\n",
      "1843/1843 - 1s - loss: 0.7195 - accuracy: 0.7607 - val_loss: 0.7476 - val_accuracy: 0.7756\n",
      "\n",
      "Epoch 00014: LearningRateScheduler reducing learning rate to 0.0005133420832795048.\n",
      "Epoch 14/45\n",
      "1843/1843 - 1s - loss: 0.6925 - accuracy: 0.7732 - val_loss: 0.7319 - val_accuracy: 0.7756\n",
      "\n",
      "Epoch 00015: LearningRateScheduler reducing learning rate to 0.00048767497911552955.\n",
      "Epoch 15/45\n",
      "1843/1843 - 1s - loss: 0.6616 - accuracy: 0.7878 - val_loss: 0.7174 - val_accuracy: 0.7902\n",
      "\n",
      "Epoch 00016: LearningRateScheduler reducing learning rate to 0.000463291230159753.\n",
      "Epoch 16/45\n",
      "1843/1843 - 1s - loss: 0.6315 - accuracy: 0.7878 - val_loss: 0.7052 - val_accuracy: 0.7805\n",
      "\n",
      "Epoch 00017: LearningRateScheduler reducing learning rate to 0.00044012666865176535.\n",
      "Epoch 17/45\n",
      "1843/1843 - 1s - loss: 0.6139 - accuracy: 0.7884 - val_loss: 0.7033 - val_accuracy: 0.7902\n",
      "\n",
      "Epoch 00018: LearningRateScheduler reducing learning rate to 0.0004181203352191771.\n",
      "Epoch 18/45\n",
      "1843/1843 - 1s - loss: 0.6089 - accuracy: 0.7938 - val_loss: 0.6709 - val_accuracy: 0.8000\n",
      "\n",
      "Epoch 00019: LearningRateScheduler reducing learning rate to 0.0003972143184582182.\n",
      "Epoch 19/45\n",
      "1843/1843 - 1s - loss: 0.5879 - accuracy: 0.7954 - val_loss: 0.6893 - val_accuracy: 0.7756\n",
      "\n",
      "Epoch 00020: LearningRateScheduler reducing learning rate to 0.00037735360253530727.\n",
      "Epoch 20/45\n",
      "1843/1843 - 1s - loss: 0.5739 - accuracy: 0.8171 - val_loss: 0.6957 - val_accuracy: 0.7951\n",
      "\n",
      "Epoch 00021: LearningRateScheduler reducing learning rate to 0.0003584859224085419.\n",
      "Epoch 21/45\n",
      "1843/1843 - 1s - loss: 0.5391 - accuracy: 0.8128 - val_loss: 0.6591 - val_accuracy: 0.8049\n",
      "\n",
      "Epoch 00022: LearningRateScheduler reducing learning rate to 0.0003405616262881148.\n",
      "Epoch 22/45\n",
      "1843/1843 - 1s - loss: 0.5360 - accuracy: 0.8101 - val_loss: 0.6669 - val_accuracy: 0.7902\n",
      "\n",
      "Epoch 00023: LearningRateScheduler reducing learning rate to 0.000323533544973709.\n",
      "Epoch 23/45\n",
      "1843/1843 - 1s - loss: 0.5182 - accuracy: 0.8226 - val_loss: 0.6510 - val_accuracy: 0.7805\n",
      "\n",
      "Epoch 00024: LearningRateScheduler reducing learning rate to 0.00030735686772502356.\n",
      "Epoch 24/45\n",
      "1843/1843 - 1s - loss: 0.4900 - accuracy: 0.8253 - val_loss: 0.6520 - val_accuracy: 0.7805\n",
      "\n",
      "Epoch 00025: LearningRateScheduler reducing learning rate to 0.0002919890243387724.\n",
      "Epoch 25/45\n",
      "1843/1843 - 1s - loss: 0.4698 - accuracy: 0.8329 - val_loss: 0.6893 - val_accuracy: 0.7951\n",
      "\n",
      "Epoch 00026: LearningRateScheduler reducing learning rate to 0.00027738957312183375.\n",
      "Epoch 26/45\n",
      "1843/1843 - 1s - loss: 0.4511 - accuracy: 0.8470 - val_loss: 0.6378 - val_accuracy: 0.8000\n",
      "\n",
      "Epoch 00027: LearningRateScheduler reducing learning rate to 0.00026352009446574203.\n",
      "Epoch 27/45\n",
      "1843/1843 - 1s - loss: 0.4475 - accuracy: 0.8497 - val_loss: 0.6330 - val_accuracy: 0.8146\n",
      "\n",
      "Epoch 00028: LearningRateScheduler reducing learning rate to 0.00025034408974245495.\n",
      "Epoch 28/45\n",
      "1843/1843 - 1s - loss: 0.4370 - accuracy: 0.8486 - val_loss: 0.6439 - val_accuracy: 0.8098\n",
      "\n",
      "Epoch 00029: LearningRateScheduler reducing learning rate to 0.00023782688525533216.\n",
      "Epoch 29/45\n",
      "1843/1843 - 1s - loss: 0.4293 - accuracy: 0.8551 - val_loss: 0.6285 - val_accuracy: 0.8098\n",
      "\n",
      "Epoch 00030: LearningRateScheduler reducing learning rate to 0.00022593554099256555.\n",
      "Epoch 30/45\n",
      "1843/1843 - 1s - loss: 0.4073 - accuracy: 0.8616 - val_loss: 0.6200 - val_accuracy: 0.8049\n",
      "\n",
      "Epoch 00031: LearningRateScheduler reducing learning rate to 0.00021463876394293727.\n",
      "Epoch 31/45\n",
      "1843/1843 - 1s - loss: 0.4163 - accuracy: 0.8524 - val_loss: 0.6275 - val_accuracy: 0.8049\n",
      "\n",
      "Epoch 00032: LearningRateScheduler reducing learning rate to 0.00020390682574579038.\n",
      "Epoch 32/45\n",
      "1843/1843 - 1s - loss: 0.3754 - accuracy: 0.8676 - val_loss: 0.6409 - val_accuracy: 0.7805\n",
      "\n",
      "Epoch 00033: LearningRateScheduler reducing learning rate to 0.00019371148445850088.\n",
      "Epoch 33/45\n",
      "1843/1843 - 1s - loss: 0.3865 - accuracy: 0.8644 - val_loss: 0.6239 - val_accuracy: 0.8049\n",
      "\n",
      "Epoch 00034: LearningRateScheduler reducing learning rate to 0.00018402591023557584.\n",
      "Epoch 34/45\n",
      "1843/1843 - 1s - loss: 0.4002 - accuracy: 0.8524 - val_loss: 0.6175 - val_accuracy: 0.8098\n",
      "\n",
      "Epoch 00035: LearningRateScheduler reducing learning rate to 0.000174824614723797.\n",
      "Epoch 35/45\n",
      "1843/1843 - 1s - loss: 0.3936 - accuracy: 0.8584 - val_loss: 0.6167 - val_accuracy: 0.8098\n",
      "\n",
      "Epoch 00036: LearningRateScheduler reducing learning rate to 0.00016608338398760718.\n",
      "Epoch 36/45\n",
      "1843/1843 - 1s - loss: 0.3936 - accuracy: 0.8611 - val_loss: 0.6231 - val_accuracy: 0.7902\n",
      "\n",
      "Epoch 00037: LearningRateScheduler reducing learning rate to 0.0001577792147882268.\n",
      "Epoch 37/45\n",
      "1843/1843 - 1s - loss: 0.3692 - accuracy: 0.8763 - val_loss: 0.6079 - val_accuracy: 0.8098\n",
      "\n",
      "Epoch 00038: LearningRateScheduler reducing learning rate to 0.00014989025404881545.\n",
      "Epoch 38/45\n",
      "1843/1843 - 1s - loss: 0.3675 - accuracy: 0.8665 - val_loss: 0.6075 - val_accuracy: 0.8098\n",
      "\n",
      "Epoch 00039: LearningRateScheduler reducing learning rate to 0.00014239574134637466.\n",
      "Epoch 39/45\n",
      "1843/1843 - 1s - loss: 0.3622 - accuracy: 0.8747 - val_loss: 0.6171 - val_accuracy: 0.8000\n",
      "\n",
      "Epoch 00040: LearningRateScheduler reducing learning rate to 0.00013527595427905592.\n",
      "Epoch 40/45\n",
      "1843/1843 - 1s - loss: 0.3432 - accuracy: 0.8823 - val_loss: 0.6105 - val_accuracy: 0.8049\n",
      "\n",
      "Epoch 00041: LearningRateScheduler reducing learning rate to 0.00012851215656510312.\n",
      "Epoch 41/45\n",
      "1843/1843 - 1s - loss: 0.3534 - accuracy: 0.8828 - val_loss: 0.6124 - val_accuracy: 0.8049\n",
      "\n",
      "Epoch 00042: LearningRateScheduler reducing learning rate to 0.00012208654873684796.\n",
      "Epoch 42/45\n",
      "1843/1843 - 1s - loss: 0.3418 - accuracy: 0.8850 - val_loss: 0.5999 - val_accuracy: 0.8146\n",
      "\n",
      "Epoch 00043: LearningRateScheduler reducing learning rate to 0.00011598222130000556.\n",
      "Epoch 43/45\n",
      "1843/1843 - 1s - loss: 0.3373 - accuracy: 0.8801 - val_loss: 0.6114 - val_accuracy: 0.8000\n",
      "\n",
      "Epoch 00044: LearningRateScheduler reducing learning rate to 0.00011018311023500529.\n",
      "Epoch 44/45\n",
      "1843/1843 - 1s - loss: 0.3287 - accuracy: 0.8904 - val_loss: 0.6166 - val_accuracy: 0.8098\n"
     ]
    },
    {
     "name": "stdout",
     "output_type": "stream",
     "text": [
      "\n",
      "Epoch 00045: LearningRateScheduler reducing learning rate to 0.00010467395472325501.\n",
      "Epoch 45/45\n",
      "1843/1843 - 1s - loss: 0.3469 - accuracy: 0.8763 - val_loss: 0.6103 - val_accuracy: 0.8195\n"
     ]
    }
   ],
   "source": [
    "# 일반 fit\n",
    "history = model.fit(\n",
    "    x_train2, y_train2, \n",
    "    epochs=45,\n",
    "    callbacks=[annealer, early_stopping],\n",
    "    validation_data=(x_val, y_val),\n",
    "    verbose=2\n",
    ")"
   ]
  },
  {
   "cell_type": "markdown",
   "metadata": {},
   "source": [
    "---\n",
    "# 모델 평가"
   ]
  },
  {
   "cell_type": "code",
   "execution_count": 62,
   "metadata": {},
   "outputs": [
    {
     "name": "stdout",
     "output_type": "stream",
     "text": [
      "1843/1 - 0s - loss: 0.2678 - accuracy: 0.9571\n",
      "[0.20941022596343728, 0.9571351]\n"
     ]
    }
   ],
   "source": [
    "print(model.evaluate(x_train2, y_train2, verbose=2))"
   ]
  },
  {
   "cell_type": "code",
   "execution_count": 63,
   "metadata": {},
   "outputs": [
    {
     "name": "stdout",
     "output_type": "stream",
     "text": [
      "205/1 - 0s - loss: 0.4103 - accuracy: 0.8195\n",
      "[0.6103199753819443, 0.8195122]\n"
     ]
    }
   ],
   "source": [
    "print(model.evaluate(x_val, y_val, verbose=2))"
   ]
  },
  {
   "cell_type": "markdown",
   "metadata": {},
   "source": [
    "---"
   ]
  },
  {
   "cell_type": "markdown",
   "metadata": {},
   "source": [
    "# Matplotlib 시각화"
   ]
  },
  {
   "cell_type": "code",
   "execution_count": 42,
   "metadata": {},
   "outputs": [
    {
     "data": {
      "image/png": "[encoded data removed]",
      "text/plain": [
       "<Figure size 432x288 with 1 Axes>"
      ]
     },
     "metadata": {
      "needs_background": "light"
     },
     "output_type": "display_data"
    }
   ],
   "source": [
    "loss = history.history['loss']\n",
    "val_loss = history.history['val_loss']\n",
    "\n",
    "plt.figure()\n",
    "plt.plot(loss,  'ro-')\n",
    "plt.plot(val_loss, 'bo-')\n",
    "plt.ylabel('Cross Entropy')\n",
    "plt.xlabel('Epoch')\n",
    "plt.title('Traning and Validatation Loss')\n",
    "plt.show()"
   ]
  },
  {
   "cell_type": "markdown",
   "metadata": {},
   "source": [
    "---\n",
    "# 모델 예측"
   ]
  },
  {
   "cell_type": "code",
   "execution_count": 44,
   "metadata": {},
   "outputs": [],
   "source": [
    "x_test = (test.iloc[:, 2:] / 255.).values.reshape(-1, 28, 28, 1)\n",
    "\n",
    "y_test = model.predict(x_test)"
   ]
  },
  {
   "cell_type": "code",
   "execution_count": 45,
   "metadata": {},
   "outputs": [],
   "source": [
    "y_test = np.argmax(y_test, axis=1)\n",
    "y_test = pd.Series(y_test, name=\"digit\")\n",
    "submission = pd.concat([pd.Series(range(2049, 22529), name=\"id\"), y_test], axis=1)\n",
    "submission.to_csv(\"2020-08-13-pred1.csv\", index=False)"
   ]
  },
  {
   "cell_type": "markdown",
   "metadata": {},
   "source": [
    "---"
   ]
  },
  {
   "cell_type": "code",
   "execution_count": 48,
   "metadata": {},
   "outputs": [],
   "source": [
    "from tensorflow.keras.preprocessing.image import ImageDataGenerator"
   ]
  },
  {
   "cell_type": "code",
   "execution_count": 64,
   "metadata": {},
   "outputs": [],
   "source": [
    "datagen = ImageDataGenerator(\n",
    "    rotation_range = 15,\n",
    "    width_shift_range = 0.1,\n",
    "    height_shift_range = 0.1,\n",
    "    zoom_range = 0.10\n",
    ")"
   ]
  },
  {
   "cell_type": "code",
   "execution_count": 67,
   "metadata": {},
   "outputs": [
    {
     "ename": "FileNotFoundError",
     "evalue": "[WinError 3] 지정된 경로를 찾을 수 없습니다: 'dataset/train'",
     "output_type": "error",
     "traceback": [
      "\u001b[1;31m---------------------------------------------------------------------------\u001b[0m",
      "\u001b[1;31mFileNotFoundError\u001b[0m                         Traceback (most recent call last)",
      "\u001b[1;32m<ipython-input-67-63d6746ec549>\u001b[0m in \u001b[0;36m<module>\u001b[1;34m\u001b[0m\n\u001b[0;32m      2\u001b[0m     \u001b[1;34m'dataset/train'\u001b[0m\u001b[1;33m,\u001b[0m\u001b[1;33m\u001b[0m\u001b[1;33m\u001b[0m\u001b[0m\n\u001b[0;32m      3\u001b[0m     \u001b[0mtarget_size\u001b[0m\u001b[1;33m=\u001b[0m\u001b[1;33m(\u001b[0m\u001b[1;36m28\u001b[0m\u001b[1;33m,\u001b[0m \u001b[1;36m28\u001b[0m\u001b[1;33m)\u001b[0m\u001b[1;33m,\u001b[0m\u001b[1;33m\u001b[0m\u001b[1;33m\u001b[0m\u001b[0m\n\u001b[1;32m----> 4\u001b[1;33m     \u001b[0mbatch_size\u001b[0m\u001b[1;33m=\u001b[0m\u001b[1;36m16\u001b[0m\u001b[1;33m,\u001b[0m\u001b[1;33m\u001b[0m\u001b[1;33m\u001b[0m\u001b[0m\n\u001b[0m\u001b[0;32m      5\u001b[0m )\n",
      "\u001b[1;32m~\\anaconda3\\lib\\site-packages\\keras_preprocessing\\image\\image_data_generator.py\u001b[0m in \u001b[0;36mflow_from_directory\u001b[1;34m(self, directory, target_size, color_mode, classes, class_mode, batch_size, shuffle, seed, save_to_dir, save_prefix, save_format, follow_links, subset, interpolation)\u001b[0m\n\u001b[0;32m    538\u001b[0m             \u001b[0mfollow_links\u001b[0m\u001b[1;33m=\u001b[0m\u001b[0mfollow_links\u001b[0m\u001b[1;33m,\u001b[0m\u001b[1;33m\u001b[0m\u001b[1;33m\u001b[0m\u001b[0m\n\u001b[0;32m    539\u001b[0m             \u001b[0msubset\u001b[0m\u001b[1;33m=\u001b[0m\u001b[0msubset\u001b[0m\u001b[1;33m,\u001b[0m\u001b[1;33m\u001b[0m\u001b[1;33m\u001b[0m\u001b[0m\n\u001b[1;32m--> 540\u001b[1;33m             \u001b[0minterpolation\u001b[0m\u001b[1;33m=\u001b[0m\u001b[0minterpolation\u001b[0m\u001b[1;33m\u001b[0m\u001b[1;33m\u001b[0m\u001b[0m\n\u001b[0m\u001b[0;32m    541\u001b[0m         )\n\u001b[0;32m    542\u001b[0m \u001b[1;33m\u001b[0m\u001b[0m\n",
      "\u001b[1;32m~\\anaconda3\\lib\\site-packages\\keras_preprocessing\\image\\directory_iterator.py\u001b[0m in \u001b[0;36m__init__\u001b[1;34m(self, directory, image_data_generator, target_size, color_mode, classes, class_mode, batch_size, shuffle, seed, data_format, save_to_dir, save_prefix, save_format, follow_links, subset, interpolation, dtype)\u001b[0m\n\u001b[0;32m    104\u001b[0m         \u001b[1;32mif\u001b[0m \u001b[1;32mnot\u001b[0m \u001b[0mclasses\u001b[0m\u001b[1;33m:\u001b[0m\u001b[1;33m\u001b[0m\u001b[1;33m\u001b[0m\u001b[0m\n\u001b[0;32m    105\u001b[0m             \u001b[0mclasses\u001b[0m \u001b[1;33m=\u001b[0m \u001b[1;33m[\u001b[0m\u001b[1;33m]\u001b[0m\u001b[1;33m\u001b[0m\u001b[1;33m\u001b[0m\u001b[0m\n\u001b[1;32m--> 106\u001b[1;33m             \u001b[1;32mfor\u001b[0m \u001b[0msubdir\u001b[0m \u001b[1;32min\u001b[0m \u001b[0msorted\u001b[0m\u001b[1;33m(\u001b[0m\u001b[0mos\u001b[0m\u001b[1;33m.\u001b[0m\u001b[0mlistdir\u001b[0m\u001b[1;33m(\u001b[0m\u001b[0mdirectory\u001b[0m\u001b[1;33m)\u001b[0m\u001b[1;33m)\u001b[0m\u001b[1;33m:\u001b[0m\u001b[1;33m\u001b[0m\u001b[1;33m\u001b[0m\u001b[0m\n\u001b[0m\u001b[0;32m    107\u001b[0m                 \u001b[1;32mif\u001b[0m \u001b[0mos\u001b[0m\u001b[1;33m.\u001b[0m\u001b[0mpath\u001b[0m\u001b[1;33m.\u001b[0m\u001b[0misdir\u001b[0m\u001b[1;33m(\u001b[0m\u001b[0mos\u001b[0m\u001b[1;33m.\u001b[0m\u001b[0mpath\u001b[0m\u001b[1;33m.\u001b[0m\u001b[0mjoin\u001b[0m\u001b[1;33m(\u001b[0m\u001b[0mdirectory\u001b[0m\u001b[1;33m,\u001b[0m \u001b[0msubdir\u001b[0m\u001b[1;33m)\u001b[0m\u001b[1;33m)\u001b[0m\u001b[1;33m:\u001b[0m\u001b[1;33m\u001b[0m\u001b[1;33m\u001b[0m\u001b[0m\n\u001b[0;32m    108\u001b[0m                     \u001b[0mclasses\u001b[0m\u001b[1;33m.\u001b[0m\u001b[0mappend\u001b[0m\u001b[1;33m(\u001b[0m\u001b[0msubdir\u001b[0m\u001b[1;33m)\u001b[0m\u001b[1;33m\u001b[0m\u001b[1;33m\u001b[0m\u001b[0m\n",
      "\u001b[1;31mFileNotFoundError\u001b[0m: [WinError 3] 지정된 경로를 찾을 수 없습니다: 'dataset/train'"
     ]
    }
   ],
   "source": [
    "train_generator = datagen.flow_from_directory(\n",
    "    'dataset/train',\n",
    "    target_size=(28, 28),\n",
    "    batch_size=16,\n",
    ")"
   ]
  },
  {
   "cell_type": "code",
   "execution_count": null,
   "metadata": {},
   "outputs": [],
   "source": []
  },
  {
   "cell_type": "code",
   "execution_count": null,
   "metadata": {},
   "outputs": [],
   "source": []
  },
  {
   "cell_type": "markdown",
   "metadata": {},
   "source": [
    "---\n",
    "# Albumentation 시험"
   ]
  },
  {
   "cell_type": "code",
   "execution_count": 288,
   "metadata": {},
   "outputs": [],
   "source": [
    "from numpy import expand_dims"
   ]
  },
  {
   "cell_type": "code",
   "execution_count": 289,
   "metadata": {},
   "outputs": [],
   "source": [
    "x_train = train.iloc[:, 3:]"
   ]
  },
  {
   "cell_type": "code",
   "execution_count": 290,
   "metadata": {},
   "outputs": [],
   "source": [
    "x_train.head()\n",
    "x_train = x_train.values.reshape(-1, 28, 28)"
   ]
  },
  {
   "cell_type": "code",
   "execution_count": 291,
   "metadata": {},
   "outputs": [
    {
     "data": {
      "image/png": "[encoded data removed]",
      "text/plain": [
       "<Figure size 432x288 with 1 Axes>"
      ]
     },
     "metadata": {
      "needs_background": "light"
     },
     "output_type": "display_data"
    },
    {
     "data": {
      "text/plain": [
       "(28, 28)"
      ]
     },
     "execution_count": 291,
     "metadata": {},
     "output_type": "execute_result"
    }
   ],
   "source": [
    "plt.imshow(x_train[0])\n",
    "plt.show()\n",
    "x_train[0].shape"
   ]
  },
  {
   "cell_type": "code",
   "execution_count": 292,
   "metadata": {},
   "outputs": [
    {
     "data": {
      "text/plain": [
       "<function matplotlib.pyplot.show(*args, **kw)>"
      ]
     },
     "execution_count": 292,
     "metadata": {},
     "output_type": "execute_result"
    },
    {
     "data": {
      "image/png": "[encoded data removed]",
      "text/plain": [
       "<Figure size 2160x2160 with 25 Axes>"
      ]
     },
     "metadata": {
      "needs_background": "light"
     },
     "output_type": "display_data"
    }
   ],
   "source": [
    "x_train = x_train.reshape(-1, 28, 28, 1).astype(np.int)\n",
    "samples = expand_dims(x_train[0], axis=0)\n",
    "\n",
    "datagen = ImageDataGenerator(\n",
    "    rotation_range = 15,\n",
    "    width_shift_range = 0.1,\n",
    "    height_shift_range = 0.1,\n",
    "    zoom_range = 0.10\n",
    ")\n",
    "\n",
    "it = datagen.flow(samples, batch_size=32)\n",
    "fig = plt.figure(figsize = (30, 30))\n",
    "\n",
    "for i in range(25):\n",
    "    plt.subplot(5, 5, i+1)\n",
    "    \n",
    "    batch = it.next()\n",
    "    \n",
    "    image = batch[0].astype('uint8')\n",
    "    plt.imshow(image.reshape(28, 28))\n",
    "plt.show"
   ]
  },
  {
   "cell_type": "code",
   "execution_count": null,
   "metadata": {},
   "outputs": [],
   "source": []
  },
  {
   "cell_type": "code",
   "execution_count": null,
   "metadata": {},
   "outputs": [],
   "source": []
  }
 ],
 "metadata": {
  "kernelspec": {
   "display_name": "Python 3",
   "language": "python",
   "name": "python3"
  },
  "language_info": {
   "codemirror_mode": {
    "name": "ipython",
    "version": 3
   },
   "file_extension": ".py",
   "mimetype": "text/x-python",
   "name": "python",
   "nbconvert_exporter": "python",
   "pygments_lexer": "ipython3",
   "version": "3.7.6"
  }
 },
 "nbformat": 4,
 "nbformat_minor": 4
}
